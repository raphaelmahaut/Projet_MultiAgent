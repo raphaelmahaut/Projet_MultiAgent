{
 "cells": [
  {
   "cell_type": "code",
   "execution_count": 1,
   "metadata": {},
   "outputs": [],
   "source": [
    "import numpy as np"
   ]
  },
  {
   "cell_type": "code",
   "execution_count": 68,
   "metadata": {},
   "outputs": [],
   "source": [
    "A = (np.arange(10)*2).reshape(5,2)"
   ]
  },
  {
   "cell_type": "code",
   "execution_count": 69,
   "metadata": {},
   "outputs": [
    {
     "data": {
      "text/plain": [
       "array([[ 0,  2],\n",
       "       [ 4,  6],\n",
       "       [ 8, 10],\n",
       "       [12, 14],\n",
       "       [16, 18],\n",
       "       [ 2,  2]])"
      ]
     },
     "execution_count": 69,
     "metadata": {},
     "output_type": "execute_result"
    }
   ],
   "source": [
    "A = np.concatenate((A,np.array([[2,2]])))\n",
    "A"
   ]
  },
  {
   "cell_type": "code",
   "execution_count": 70,
   "metadata": {},
   "outputs": [
    {
     "name": "stdout",
     "output_type": "stream",
     "text": [
      "(6, 2, 6)\n"
     ]
    },
    {
     "data": {
      "text/plain": [
       "array([[0., 0., 0., 0., 0., 0.],\n",
       "       [2., 2., 2., 2., 2., 2.]])"
      ]
     },
     "execution_count": 70,
     "metadata": {},
     "output_type": "execute_result"
    }
   ],
   "source": [
    "N = A.shape[0]\n",
    "A_temp = np.expand_dims(A,axis=-1)\n",
    "ones_temp = np.ones((N,1,N))\n",
    "print((A_temp@ones_temp).shape)\n",
    "prod_temp = A_temp@ones_temp\n",
    "prod_temp[0]"
   ]
  },
  {
   "cell_type": "code",
   "execution_count": 71,
   "metadata": {},
   "outputs": [
    {
     "data": {
      "text/plain": [
       "array([[ 0.,  0.,  0.,  0.,  0.,  0.],\n",
       "       [ 4.,  4.,  4.,  4.,  4.,  4.],\n",
       "       [ 8.,  8.,  8.,  8.,  8.,  8.],\n",
       "       [12., 12., 12., 12., 12., 12.],\n",
       "       [16., 16., 16., 16., 16., 16.],\n",
       "       [ 2.,  2.,  2.,  2.,  2.,  2.]])"
      ]
     },
     "execution_count": 71,
     "metadata": {},
     "output_type": "execute_result"
    }
   ],
   "source": [
    "transposed = np.transpose(prod_temp,(0,2,1))\n",
    "transposed[:,:,0]"
   ]
  },
  {
   "cell_type": "code",
   "execution_count": 72,
   "metadata": {},
   "outputs": [
    {
     "data": {
      "text/plain": [
       "array([[ 0.,  4.,  8., 12., 16.,  2.],\n",
       "       [ 0.,  4.,  8., 12., 16.,  2.],\n",
       "       [ 0.,  4.,  8., 12., 16.,  2.],\n",
       "       [ 0.,  4.,  8., 12., 16.,  2.],\n",
       "       [ 0.,  4.,  8., 12., 16.,  2.],\n",
       "       [ 0.,  4.,  8., 12., 16.,  2.]])"
      ]
     },
     "execution_count": 72,
     "metadata": {},
     "output_type": "execute_result"
    }
   ],
   "source": [
    "transposed_2 = np.transpose(transposed,(1,0,2))\n",
    "transposed_2[:,:,0]"
   ]
  },
  {
   "cell_type": "code",
   "execution_count": 87,
   "metadata": {},
   "outputs": [],
   "source": [
    "def measure_inter_dist(A):\n",
    "    assert len(A.shape) == 2, \"wrong shape\"\n",
    "    N = A.shape[0]\n",
    "    d = A.shape[1]\n",
    "\n",
    "    A_temp = np.expand_dims(A,axis=-1)\n",
    "    ones_temp = np.ones((N,1,N))\n",
    "    prod_temp = A_temp@ones_temp\n",
    "    transposed = np.transpose(prod_temp,(0,2,1))\n",
    "    transposed_2 = np.transpose(transposed,(1,0,2))\n",
    "    sqr_dist = ((np.abs(transposed-transposed_2)**2)@np.ones((N,d,1)))[:,:,0]\n",
    "    dist = np.sqrt(sqr_dist)\n",
    "    return dist\n",
    "\n",
    "# measure_inter_dist(A)"
   ]
  },
  {
   "cell_type": "code",
   "execution_count": 113,
   "metadata": {},
   "outputs": [
    {
     "name": "stdout",
     "output_type": "stream",
     "text": [
      "[[0 2]\n",
      " [0 2]\n",
      " [2 2]]\n",
      "[[  0   0]\n",
      " [  1 100]\n",
      " [  0   0]]\n",
      "all_poses [[  0   2   0   0]\n",
      " [  0   2   1 100]\n",
      " [  2   2   0   0]]\n",
      "[[  0.           2.82842712   2.23606798 100.019998  ]\n",
      " [  2.82842712   0.           3.          98.04080783]\n",
      " [  2.23606798   3.           0.          99.        ]\n",
      " [100.019998    98.04080783  99.           0.        ]]\n",
      "(1,)\n",
      "(0, 0, 0, False, False)\n"
     ]
    }
   ],
   "source": [
    "tb3_poses = np.array([[0,1,0],[0,100,0]]).T\n",
    "cf_poses = np.array([[0,0,2],[2,2,2]]).T\n",
    "radius_inter_robot_security_xyz = 1\n",
    "flee_speed = 0.5\n",
    "\n",
    "def apply_anticollision(robotNo, tb3_poses, cf_poses, vx, vy, vz, takeoff, land):\n",
    "    all_poses = np.concatenate((cf_poses, tb3_poses), axis=-1)\n",
    "    inter_dist_xyz = measure_inter_dist(all_poses.T)\n",
    "    robots_at_risk = np.where(inter_dist_xyz[robotNo-1] <= radius_inter_robot_security_xyz)[0]\n",
    "    \n",
    "    if len(robots_at_risk) > 1:\n",
    "        barycenter =  np.mean(all_poses[:,robots_at_risk],axis=-1)\n",
    "        flee_vector = cf_poses[:,robotNo-1]-barycenter\n",
    "        flee_vector = flee_vector/np.linalg.norm(flee_vector)\n",
    "        flee_vector = flee_speed*flee_vector\n",
    "        vx, vy, vz = flee_vector\n",
    "        takeoff, land = False, False\n",
    "    return vx, vy, vz, takeoff, land\n",
    "\n",
    "print(cf_poses)\n",
    "print(tb3_poses)\n",
    "vx, vy, vz, takeoff, land = 0, 0, 0, False, False\n",
    "print(apply_anticollision(1, tb3_poses, cf_poses, vx, vy, vz, takeoff, land))"
   ]
  },
  {
   "cell_type": "code",
   "execution_count": 14,
   "metadata": {},
   "outputs": [
    {
     "data": {
      "text/plain": [
       "0"
      ]
     },
     "execution_count": 14,
     "metadata": {},
     "output_type": "execute_result"
    }
   ],
   "source": []
  }
 ],
 "metadata": {
  "kernelspec": {
   "display_name": "venv_more_MAS",
   "language": "python",
   "name": "python3"
  },
  "language_info": {
   "codemirror_mode": {
    "name": "ipython",
    "version": 3
   },
   "file_extension": ".py",
   "mimetype": "text/x-python",
   "name": "python",
   "nbconvert_exporter": "python",
   "pygments_lexer": "ipython3",
   "version": "3.10.6"
  },
  "orig_nbformat": 4
 },
 "nbformat": 4,
 "nbformat_minor": 2
}
